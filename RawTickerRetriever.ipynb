{
 "cells": [
  {
   "cell_type": "code",
   "execution_count": 4,
   "id": "51268a07",
   "metadata": {},
   "outputs": [],
   "source": [
    "\n",
    "import importlib\n",
    "import yfinance as yf\n",
    "import pandas as pd\n",
    "import time\n",
    "import json\n",
    "import Database as db\n",
    "import NewConfig as c\n",
    "importlib.reload(db)\n",
    "importlib.reload(c)\n",
    "Reload = True"
   ]
  },
  {
   "cell_type": "code",
   "execution_count": 5,
   "id": "6170fa56",
   "metadata": {},
   "outputs": [],
   "source": [
    "# Load cached news articles\n",
    "news = db.load_cached_news()\n",
    "tickers = sorted({ticker for article in news for ticker in article[\"symbols\"]})\n"
   ]
  },
  {
   "cell_type": "code",
   "execution_count": 6,
   "id": "b97c0ab2",
   "metadata": {},
   "outputs": [
    {
     "name": "stdout",
     "output_type": "stream",
     "text": [
      "tickers ['AA', 'AADI', 'AAL', 'AAPL', 'ABCM', 'ACB', 'ACCD', 'ACGL', 'ACLX', 'ACM', 'ACN', 'ACRX', 'ADC', 'ADD', 'ADDYY', 'ADM', 'ADP', 'ADRA', 'AEHA', 'AEHAW', 'AEHL', 'AEM', 'AEMD', 'AFB', 'AFCG', 'AFL', 'AFRM', 'AGNC', 'AGRX', 'AHI', 'AIG', 'AIRTP', 'AJG', 'AKAN', 'ALB', 'ALE', 'ALEAF', 'ALGM', 'ALK', 'ALR', 'ALRS', 'ALV', 'AMAT', 'AMBC', 'AMC', 'AMD', 'AMGN', 'AMH', 'AMR', 'AMRS', 'AMST', 'AMT', 'AMZN', 'ANEB', 'AOS', 'APAM', 'APCX', 'APE', 'APLD', 'APM', 'APPN', 'APRE', 'APRN', 'APTO', 'AQUA', 'ARE', 'ARHS', 'ARKK', 'ARL', 'ARLP', 'AROW', 'ARRY', 'ARVL', 'ASAN', 'ASH', 'ASHR', 'ASLN', 'ASPU', 'ATAI', 'ATER', 'ATHE', 'ATNX', 'ATR', 'ATUS', 'ATVI', 'ATXG', 'AU', 'AUBN', 'AUID', 'AUR', 'AUY', 'AWF', 'AX', 'AXON', 'AXP', 'AXSM', 'AXSUSD', 'AXTA', 'AY', 'AZEK', 'AZN', 'BA', 'BABA', 'BAC', 'BAER', 'BAOS', 'BARK', 'BASE', 'BBAI', 'BBBY', 'BCBP', 'BCLI', 'BEN', 'BHFAP', 'BIDU', 'BIGC', 'BIIB', 'BILI', 'BILL', 'BKR', 'BLBX', 'BLNK', 'BMRN', 'BMTX', 'BMWYY', 'BMY', 'BNED', 'BNTX', 'BOOT', 'BOXL', 'BRAG', 'BRBR', 'BRC', 'BREA', 'BRK-A', 'BRLT', 'BSBK', 'BSFC', 'BSRR', 'BTB', 'BTCUSD', 'BTCY', 'BUSE', 'BUZFD', 'BW', 'BWMN', 'BX', 'BXP', 'BYDDF', 'BYDDY', 'BYND', 'BYRN', 'BZFD', 'BZH', 'C', 'CAC', 'CACC', 'CACI', 'CACO', 'CADE', 'CAH', 'CAJ', 'CALA', 'CARA', 'CAT', 'CB', 'CBAY', 'CCCC', 'CCL', 'CDRE', 'CDRO', 'CELU', 'CELUSD', 'CELZ', 'CENT', 'CENTA', 'CETX', 'CETXP', 'CF', 'CFLT', 'CFRX', 'CG', 'CGC', 'CHTR', 'CI', 'CIFR', 'CL', 'CLF', 'CLH', 'CLOV', 'CMCSA', 'CMLS', 'CMPS', 'CNC', 'CNEY', 'CNGGF', 'CNOB', 'CNP', 'CNXA', 'COCO', 'CODA', 'COHU', 'COIN', 'COP', 'CP', 'CPHRF', 'CPK', 'CQQQ', 'CRGO', 'CRK', 'CRL', 'CRM', 'CRON', 'CSE:CURA', 'CSE:HUGE', 'CSE:IMCC', 'CSE:TER', 'CSE:XSF', 'CSR', 'CSWC', 'CSWI', 'CSX', 'CTSH', 'CUEN', 'CUK', 'CURLF', 'CVAC', 'CVKD', 'CVLG', 'CVLT', 'CVNA', 'CVS', 'CVX', 'CWBHF', 'CYAD', 'CYBN', 'CYT', 'CYXT', 'D', 'DADA', 'DAL', 'DAN', 'DAO', 'DAR', 'DARE', 'DASH', 'DASHUSD', 'DBGI', 'DCOM', 'DCP', 'DCRD', 'DE', 'DG', 'DGLY', 'DHI', 'DHR', 'DIS', 'DIT', 'DKNG', 'DNLI', 'DOCU', 'DOGEUSD', 'DOOO', 'DOTUSD', 'DOV', 'DOW', 'DOX', 'DPRO', 'DRI', 'DSKE', 'DSX', 'DTE', 'DVA', 'DX', 'DXLG', 'E', 'EA', 'EBAY', 'EBC', 'EDBL', 'EGIO', 'EH', 'EHTH', 'EIS', 'EJH', 'ELAN', 'ELEV', 'ELONUSD', 'ELS', 'ELSE', 'ELV', 'EMN', 'ENLC', 'ENPH', 'EOLS', 'EPOW', 'ERYP', 'ESALY', 'ETHUSD', 'EURN', 'EVH', 'EVOK', 'EVRG', 'EVTL', 'EVTV', 'EW', 'EWJ', 'EWW', 'F', 'FAZE', 'FB', 'FBIN', 'FBNC', 'FCF', 'FDMT', 'FFIE', 'FFIN', 'FFIV', 'FFNTF', 'FFNW', 'FGF', 'FHB', 'FIBK', 'FISI', 'FIVN', 'FLGC', 'FLNC', 'FLS', 'FMBH', 'FNGR', 'FNV', 'FOUR', 'FOX', 'FOXA', 'FOXO', 'FRGT', 'FRME', 'FRO', 'FRT', 'FRZA', 'FSBC', 'FTCH', 'FTFT', 'FTMUSD', 'FTNT', 'FTTUSD', 'FUBO', 'FWBI', 'FXI', 'GABC', 'GDEN', 'GDS', 'GE', 'GEHC', 'GENE', 'GETR', 'GETY', 'GFAI', 'GFI', 'GGG', 'GGR', 'GH', 'GHRS', 'GIII', 'GILD', 'GIS', 'GLASF', 'GLD', 'GLOB', 'GLW', 'GM', 'GME', 'GMGI', 'GMVD', 'GNPX', 'GNS', 'GOCO', 'GOEV', 'GOLD', 'GOOG', 'GOOGL', 'GOTU', 'GRIN', 'GRPN', 'GRWG', 'GS', 'GSK', 'GSUN', 'GT', 'GTHX', 'GTIM', 'GVP', 'GWH', 'GXC', 'HA', 'HAL', 'HARP', 'HBORF', 'HCA', 'HCCI', 'HCDI', 'HCM', 'HCTI', 'HES', 'HEXO', 'HFFG', 'HGTY', 'HITI', 'HLBZ', 'HLI', 'HLIT', 'HMC', 'HMST', 'HMY', 'HNHPF', 'HOLO', 'HON', 'HOUS', 'HP', 'HSCS', 'HTBK', 'HTLF', 'HTOO', 'HTZ', 'HUBB', 'HUGE', 'HUIZ', 'HUM', 'HWBK', 'HXL', 'HYFM', 'HZO', 'ICFI', 'ICVX', 'IDEX', 'IEX', 'IFBD', 'IGC', 'IGXT', 'IIPR', 'IMAB', 'IMAX', 'IMBI', 'IMCC', 'IMMP', 'IMO', 'IMTE', 'INDA', 'INPX', 'INTC', 'INTZ', 'INVH', 'IP', 'IPGP', 'IQ', 'IRNT', 'IRT', 'ISPO', 'ITGR', 'IVDA', 'JAN', 'JBL', 'JBLU', 'JD', 'JEWL', 'JJSF', 'JLL', 'JNJ', 'JNPR', 'JWN', 'JZ', 'KAL', 'KALA', 'KAVL', 'KC', 'KERN', 'KEX', 'KGC', 'KLAC', 'KMPR', 'KMX', 'KOPN', 'KR', 'KSS', 'KUKE', 'KWEB', 'KXIN', 'LANV', 'LC', 'LCID', 'LCRX', 'LEN', 'LFLY', 'LHX', 'LI', 'LICY', 'LII', 'LINKUSD', 'LIQT', 'LITE', 'LIZI', 'LLY', 'LMT', 'LNC', 'LOGI', 'LRCUSD', 'LRLCY', 'LTCUSD', 'LTRY', 'LULU', 'LUV', 'LVLU', 'LVMHF', 'LXU', 'LYFT', 'LYTS', 'M', 'MA', 'MAIA', 'MAN', 'MANAUSD', 'MANU', 'MAPS', 'MASI', 'MATICUSD', 'MBI', 'MBIN', 'MBLY', 'MC', 'MCD', 'MCHI', 'MCO', 'MDC', 'MDGS', 'MDLZ', 'MDT', 'MDXG', 'META', 'METX', 'MFH', 'MFIN', 'MGEE', 'MGI', 'MGOL', 'MINAUSD', 'MITK', 'MMC', 'MMM', 'MMYT', 'MNMD', 'MNOV', 'MODD', 'MOS', 'MP', 'MPC', 'MPLN', 'MPLX', 'MPWR', 'MQ', 'MRAI', 'MRBK', 'MRCY', 'MRK', 'MRNA', 'MRVI', 'MRVL', 'MS', 'MSCI', 'MSFT', 'MSTR', 'MTCH', 'MTH', 'MTNB', 'MU', 'MYMD', 'MYNA', 'NARI', 'NATI', 'NDAQ', 'NEARUSD', 'NEE', 'NEM', 'NEP', 'NFLX', 'NICE', 'NIO', 'NJDCY', 'NKE', 'NKLA', 'NLSP', 'NNDM', 'NNDNF', 'NOTE', 'NRGV', 'NSANF', 'NSANY', 'NSC', 'NTCO', 'NTDOY', 'NTR', 'NTRR', 'NUE', 'NUMIF', 'NVA', 'NVAX', 'NVDA', 'NVO', 'NVOS', 'NVS', 'NVVE', 'NWS', 'NXPI', 'NXRT', 'NXST', 'NYCB', 'NYMX', 'OBIO', 'OBLG', 'ODFL', 'OGI', 'OI', 'OKE', 'OKTA', 'OKYO', 'OLB', 'OLN', 'OMF', 'ONFO', 'ONTX', 'OPEN', 'OPGN', 'ORCL', 'ORGO', 'ORI', 'OSK', 'OXM', 'PACW', 'PANW', 'PARA', 'PARAA', 'PAYO', 'PBFS', 'PBLA', 'PBTS', 'PCH', 'PCSA', 'PDD', 'PDLB', 'PEN', 'PERI', 'PEV', 'PFE', 'PFG', 'PG', 'PGEN', 'PGY', 'PHG', 'PHM', 'PIAI', 'PII', 'PINC', 'PINE', 'PINS', 'PLAB', 'PLD', 'PLUG', 'PM', 'PNR', 'POL', 'PONGF', 'POWL', 'PPBI', 'PRPL', 'PRST', 'PSX', 'PTC', 'PTON', 'PUK', 'PWOD', 'PXD', 'PXMD', 'QCOM', 'QLI', 'QNCX', 'QQQ', 'QRVO', 'QSI', 'RBLX', 'RCI', 'RDFN', 'REAL', 'REGN', 'RELI', 'RELY', 'RERE', 'RES', 'REVG', 'RGCO', 'RGEN', 'RGLD', 'RGR', 'RHI', 'RIDE', 'RIO', 'RIOT', 'RIVN', 'RMBL', 'RNLSY', 'RNR', 'RNSDF', 'ROK', 'ROP', 'RRBI', 'RUM', 'RVP', 'RVYL', 'RYAAY', 'SAIA', 'SANDUSD', 'SANM', 'SBCF', 'SBIG', 'SBSI', 'SBT', 'SBUX', 'SCCO', 'SCHW', 'SCLX', 'SCPH', 'SCPL', 'SE', 'SEEL', 'SESN', 'SFIX', 'SFR', 'SHEL', 'SHIBUSD', 'SHOP', 'SHW', 'SIEN', 'SIFY', 'SILC', 'SJM', 'SKT', 'SLB', 'SLG', 'SLNH', 'SLQT', 'SMBC', 'SMCI', 'SMH', 'SMPL', 'SMR', 'SNAP', 'SNDL', 'SNN', 'SNOA', 'SNTI', 'SNY', 'SO', 'SOFI', 'SOL', 'SOLUSD', 'SONN', 'SPCE', 'SPNT', 'SPOT', 'SPY', 'SSB', 'SSDIY', 'SSNLF', 'ST', 'STAA', 'STEL', 'STER', 'STLD', 'STOR', 'STRS', 'STSS', 'STWD', 'STX', 'SVRE', 'SWBI', 'SWDBY', 'SWVL', 'SY', 'SYK', 'SYM', 'SYY', 'T', 'TA', 'TALS', 'TARA', 'TBLT', 'TCBX', 'TCEHY', 'TDCX', 'TEVA', 'TGH', 'TLRY', 'TM', 'TMO', 'TMUS', 'TNXP', 'TOL', 'TPIC', 'TRKA', 'TRMR', 'TRNS', 'TROW', 'TRSSF', 'TRV', 'TSHA', 'TSLA', 'TSN', 'TSX:ABX', 'TSX:AEM', 'TSX:AH', 'TSX:CFF', 'TSX:DFY', 'TSX:DOO', 'TSX:FFH', 'TSX:FNV', 'TSX:NTR', 'TSX:REAL', 'TSX:STLC', 'TTD', 'TTE', 'TVTX', 'TWLO', 'TWND', 'TWOU', 'TWST', 'TWTUSD', 'TWX', 'TXN', 'UBER', 'UBS', 'UL', 'UNH', 'UNM', 'UP', 'UPS', 'UPST', 'URI', 'USCB', 'USO', 'UTRS', 'UXIN', 'V', 'VALE', 'VEON', 'VERA', 'VFF', 'VGK', 'VIR', 'VIRT', 'VITL', 'VLO', 'VLTA', 'VRAX', 'VREX', 'VRNS', 'VSAC', 'VSACU', 'VSTM', 'VSTO', 'VTLE', 'VVOS', 'VWAGY', 'WATT', 'WBA', 'WBD', 'WDC', 'WEJO', 'WHR', 'WISA', 'WKEY', 'WLDS', 'WM', 'WMG', 'WMT', 'WOLF', 'WPC', 'WPM', 'WRAP', 'WSFS', 'WTFC', 'WVE', 'WWD', 'WWE', 'WYNN', 'XELA', 'XERS', 'XIACF', 'XIACY', 'XLO', 'XNCR', 'XOM', 'XPEV', 'XPON', 'XSHLF', 'XWEL', 'XXII', 'YMAB', 'YY', 'Z', 'ZEV', 'ZG', 'ZH', 'ZLAB', 'ZM', 'ZS']\n",
      "Number of tickers: 913\n"
     ]
    }
   ],
   "source": [
    "print(\"tickers\",tickers)\n",
    "print(\"Number of tickers:\", len(tickers))"
   ]
  },
  {
   "cell_type": "code",
   "execution_count": 7,
   "id": "a3341a34",
   "metadata": {},
   "outputs": [
    {
     "name": "stdout",
     "output_type": "stream",
     "text": [
      "Retrieved symbol AA at number: 1\r"
     ]
    },
    {
     "name": "stderr",
     "output_type": "stream",
     "text": [
      "HTTP Error 404: \n"
     ]
    },
    {
     "name": "stdout",
     "output_type": "stream",
     "text": [
      "Skipping AADI due to missing longName\n",
      "Skipping ABCM due to missing longName\n",
      "Retrieved symbol ACB at number: 4\r"
     ]
    },
    {
     "name": "stderr",
     "output_type": "stream",
     "text": [
      "HTTP Error 404: \n"
     ]
    },
    {
     "name": "stdout",
     "output_type": "stream",
     "text": [
      "Skipping ACCD due to missing longName\n",
      "Skipping ACRX due to missing longName\n",
      "Skipping ADRA due to missing longName\n",
      "Skipping AEHA due to missing longName\n",
      "Skipping AEHAW due to missing longName\n",
      "Skipping AGRX due to missing longName\n",
      "Skipping ALEAF due to missing longName\n",
      "Skipping ALR due to missing longName\n",
      "Skipping AMRS due to missing longName\n",
      "Skipping APE due to missing longName\n",
      "Skipping APRN due to missing longName\n",
      "Skipping APTO due to missing longName\n",
      "Skipping AQUA due to missing longName\n",
      "Skipping ARVL due to missing longName\n",
      "Skipping ASLN due to missing longName\n",
      "Skipping ATNX due to missing longName\n",
      "Skipping ATVI due to missing longName\n",
      "Skipping AUY due to missing longName\n",
      "Retrieved symbol AXSM at number: 76\r"
     ]
    },
    {
     "name": "stderr",
     "output_type": "stream",
     "text": [
      "HTTP Error 404: \n"
     ]
    },
    {
     "name": "stdout",
     "output_type": "stream",
     "text": [
      "Skipping AXSUSD due to missing longName\n",
      "Skipping AY due to missing longName\n",
      "Skipping BBBY due to missing longName\n",
      "Skipping BMTX due to missing longName\n",
      "Skipping BMWYY due to missing longName\n",
      "Retrieved symbol BSRR at number: 1140\r"
     ]
    },
    {
     "name": "stderr",
     "output_type": "stream",
     "text": [
      "HTTP Error 404: \n"
     ]
    },
    {
     "name": "stdout",
     "output_type": "stream",
     "text": [
      "Skipping BTB due to missing longName\n",
      "Skipping BTCUSD due to missing longName\n",
      "Retrieved symbol BUSE at number: 116\r"
     ]
    },
    {
     "name": "stderr",
     "output_type": "stream",
     "text": [
      "HTTP Error 404: \n"
     ]
    },
    {
     "name": "stdout",
     "output_type": "stream",
     "text": [
      "Skipping BUZFD due to missing longName\n",
      "Skipping CACO due to missing longName\n",
      "Skipping CAJ due to missing longName\n",
      "Retrieved symbol CALA at number: 133\r"
     ]
    },
    {
     "name": "stderr",
     "output_type": "stream",
     "text": [
      "HTTP Error 404: \n"
     ]
    },
    {
     "name": "stdout",
     "output_type": "stream",
     "text": [
      "Skipping CARA due to missing longName\n",
      "Skipping CBAY due to missing longName\n",
      "Retrieved symbol CELU at number: 140\r"
     ]
    },
    {
     "name": "stderr",
     "output_type": "stream",
     "text": [
      "HTTP Error 404: \n"
     ]
    },
    {
     "name": "stdout",
     "output_type": "stream",
     "text": [
      "Skipping CELUSD due to missing longName\n",
      "Skipping CFRX due to missing longName\n",
      "Skipping CNXA due to missing longName\n",
      "Retrieved symbol CRON at number: 1781\r"
     ]
    },
    {
     "name": "stderr",
     "output_type": "stream",
     "text": [
      "HTTP Error 404: \n"
     ]
    },
    {
     "name": "stdout",
     "output_type": "stream",
     "text": [
      "Skipping CSE:CURA due to missing longName\n"
     ]
    },
    {
     "name": "stderr",
     "output_type": "stream",
     "text": [
      "HTTP Error 404: \n"
     ]
    },
    {
     "name": "stdout",
     "output_type": "stream",
     "text": [
      "Skipping CSE:HUGE due to missing longName\n"
     ]
    },
    {
     "name": "stderr",
     "output_type": "stream",
     "text": [
      "HTTP Error 404: \n"
     ]
    },
    {
     "name": "stdout",
     "output_type": "stream",
     "text": [
      "Skipping CSE:IMCC due to missing longName\n"
     ]
    },
    {
     "name": "stderr",
     "output_type": "stream",
     "text": [
      "HTTP Error 404: \n"
     ]
    },
    {
     "name": "stdout",
     "output_type": "stream",
     "text": [
      "Skipping CSE:TER due to missing longName\n"
     ]
    },
    {
     "name": "stderr",
     "output_type": "stream",
     "text": [
      "HTTP Error 404: \n"
     ]
    },
    {
     "name": "stdout",
     "output_type": "stream",
     "text": [
      "Skipping CSE:XSF due to missing longName\n",
      "Skipping CYAD due to missing longName\n",
      "Skipping CYT due to missing longName\n",
      "Skipping CYXT due to missing longName\n",
      "Retrieved symbol DASH at number: 203\r"
     ]
    },
    {
     "name": "stderr",
     "output_type": "stream",
     "text": [
      "HTTP Error 404: \n"
     ]
    },
    {
     "name": "stdout",
     "output_type": "stream",
     "text": [
      "Skipping DASHUSD due to missing longName\n",
      "Skipping DCP due to missing longName\n",
      "Skipping DCRD due to missing longName\n",
      "Retrieved symbol DOCU at number: 215\r"
     ]
    },
    {
     "name": "stderr",
     "output_type": "stream",
     "text": [
      "HTTP Error 404: \n"
     ]
    },
    {
     "name": "stdout",
     "output_type": "stream",
     "text": [
      "Skipping DOGEUSD due to missing longName\n",
      "Retrieved symbol DOOO at number: 216\r"
     ]
    },
    {
     "name": "stderr",
     "output_type": "stream",
     "text": [
      "HTTP Error 404: \n"
     ]
    },
    {
     "name": "stdout",
     "output_type": "stream",
     "text": [
      "Skipping DOTUSD due to missing longName\n",
      "Skipping DSKE due to missing longName\n",
      "Skipping EGIO due to missing longName\n",
      "Retrieved symbol ELEV at number: 237\r"
     ]
    },
    {
     "name": "stderr",
     "output_type": "stream",
     "text": [
      "HTTP Error 404: \n"
     ]
    },
    {
     "name": "stdout",
     "output_type": "stream",
     "text": [
      "Skipping ELONUSD due to missing longName\n",
      "Skipping ENLC due to missing longName\n",
      "Skipping ERYP due to missing longName\n"
     ]
    },
    {
     "name": "stderr",
     "output_type": "stream",
     "text": [
      "HTTP Error 404: \n"
     ]
    },
    {
     "name": "stdout",
     "output_type": "stream",
     "text": [
      "Skipping ESALY due to missing longName\n",
      "Skipping ETHUSD due to missing longName\n",
      "Skipping EURN due to missing longName\n",
      "Skipping FAZE due to missing longName\n",
      "Retrieved symbol FDMT at number: 258\r"
     ]
    },
    {
     "name": "stderr",
     "output_type": "stream",
     "text": [
      "HTTP Error 404: \n"
     ]
    },
    {
     "name": "stdout",
     "output_type": "stream",
     "text": [
      "Skipping FFIE due to missing longName\n",
      "Retrieved symbol FFNTF at number: 261\r"
     ]
    },
    {
     "name": "stderr",
     "output_type": "stream",
     "text": [
      "HTTP Error 404: \n"
     ]
    },
    {
     "name": "stdout",
     "output_type": "stream",
     "text": [
      "Skipping FFNW due to missing longName\n",
      "Skipping FTCH due to missing longName\n",
      "Retrieved symbol FTFT at number: 283\r"
     ]
    },
    {
     "name": "stderr",
     "output_type": "stream",
     "text": [
      "HTTP Error 404: \n"
     ]
    },
    {
     "name": "stdout",
     "output_type": "stream",
     "text": [
      "Skipping FTMUSD due to missing longName\n",
      "Retrieved symbol FTNT at number: 284\r"
     ]
    },
    {
     "name": "stderr",
     "output_type": "stream",
     "text": [
      "HTTP Error 404: \n"
     ]
    },
    {
     "name": "stdout",
     "output_type": "stream",
     "text": [
      "Skipping FTTUSD due to missing longName\n",
      "Skipping FWBI due to missing longName\n",
      "Retrieved symbol GEHC at number: 291\r"
     ]
    },
    {
     "name": "stderr",
     "output_type": "stream",
     "text": [
      "HTTP Error 404: \n"
     ]
    },
    {
     "name": "stdout",
     "output_type": "stream",
     "text": [
      "Skipping GENE due to missing longName\n",
      "Skipping GMVD due to missing longName\n",
      "Retrieved symbol GOEV at number: 313\r"
     ]
    },
    {
     "name": "stderr",
     "output_type": "stream",
     "text": [
      "HTTP Error 404: \n"
     ]
    },
    {
     "name": "stdout",
     "output_type": "stream",
     "text": [
      "Skipping GOLD due to missing longName\n",
      "Skipping GTHX due to missing longName\n",
      "Skipping GVP due to missing longName\n",
      "Skipping HA due to missing longName\n",
      "Skipping HARP due to missing longName\n",
      "Skipping HBORF due to missing longName\n",
      "Skipping HCCI due to missing longName\n",
      "Skipping HCDI due to missing longName\n",
      "Skipping HEXO due to missing longName\n",
      "Skipping HLBZ due to missing longName\n",
      "Skipping HTLF due to missing longName\n",
      "Skipping HUGE due to missing longName\n",
      "Skipping ICVX due to missing longName\n",
      "Skipping IDEX due to missing longName\n",
      "Retrieved symbol IGC at number: 3598\r"
     ]
    },
    {
     "name": "stderr",
     "output_type": "stream",
     "text": [
      "HTTP Error 404: \n"
     ]
    },
    {
     "name": "stdout",
     "output_type": "stream",
     "text": [
      "Skipping IGXT due to missing longName\n",
      "Skipping IMBI due to missing longName\n",
      "Skipping INPX due to missing longName\n",
      "Skipping IRNT due to missing longName\n",
      "Skipping JAN due to missing longName\n",
      "Retrieved symbol JNPR at number: 385\r"
     ]
    },
    {
     "name": "stderr",
     "output_type": "stream",
     "text": [
      "HTTP Error 404: \n"
     ]
    },
    {
     "name": "stdout",
     "output_type": "stream",
     "text": [
      "Skipping JWN due to missing longName\n",
      "Skipping KAL due to missing longName\n",
      "Skipping KERN due to missing longName\n",
      "Retrieved symbol LCID at number: 403\r"
     ]
    },
    {
     "name": "stderr",
     "output_type": "stream",
     "text": [
      "HTTP Error 404: \n"
     ]
    },
    {
     "name": "stdout",
     "output_type": "stream",
     "text": [
      "Skipping LCRX due to missing longName\n",
      "Retrieved symbol LI at number: 40765\r"
     ]
    },
    {
     "name": "stderr",
     "output_type": "stream",
     "text": [
      "HTTP Error 404: \n"
     ]
    },
    {
     "name": "stdout",
     "output_type": "stream",
     "text": [
      "Skipping LICY due to missing longName\n",
      "Retrieved symbol LII at number: 408\r"
     ]
    },
    {
     "name": "stderr",
     "output_type": "stream",
     "text": [
      "HTTP Error 404: \n"
     ]
    },
    {
     "name": "stdout",
     "output_type": "stream",
     "text": [
      "Skipping LINKUSD due to missing longName\n",
      "Skipping LIZI due to missing longName\n",
      "Retrieved symbol LOGI at number: 414\r"
     ]
    },
    {
     "name": "stderr",
     "output_type": "stream",
     "text": [
      "HTTP Error 404: \n"
     ]
    },
    {
     "name": "stdout",
     "output_type": "stream",
     "text": [
      "Skipping LRCUSD due to missing longName\n",
      "Retrieved symbol LRLCY at number: 415\r"
     ]
    },
    {
     "name": "stderr",
     "output_type": "stream",
     "text": [
      "HTTP Error 404: \n"
     ]
    },
    {
     "name": "stdout",
     "output_type": "stream",
     "text": [
      "Skipping LTCUSD due to missing longName\n",
      "Retrieved symbol MAN at number: 42760\r"
     ]
    },
    {
     "name": "stderr",
     "output_type": "stream",
     "text": [
      "HTTP Error 404: \n"
     ]
    },
    {
     "name": "stdout",
     "output_type": "stream",
     "text": [
      "Skipping MANAUSD due to missing longName\n",
      "Retrieved symbol MASI at number: 430\r"
     ]
    },
    {
     "name": "stderr",
     "output_type": "stream",
     "text": [
      "HTTP Error 404: \n"
     ]
    },
    {
     "name": "stdout",
     "output_type": "stream",
     "text": [
      "Skipping MATICUSD due to missing longName\n",
      "Skipping MDC due to missing longName\n",
      "Skipping MDGS due to missing longName\n",
      "Skipping METX due to missing longName\n",
      "Skipping MGI due to missing longName\n"
     ]
    },
    {
     "name": "stderr",
     "output_type": "stream",
     "text": [
      "HTTP Error 404: \n"
     ]
    },
    {
     "name": "stdout",
     "output_type": "stream",
     "text": [
      "Skipping MGOL due to missing longName\n"
     ]
    },
    {
     "name": "stderr",
     "output_type": "stream",
     "text": [
      "HTTP Error 404: \n"
     ]
    },
    {
     "name": "stdout",
     "output_type": "stream",
     "text": [
      "Skipping MINAUSD due to missing longName\n",
      "Retrieved symbol MPC at number: 4541\r"
     ]
    },
    {
     "name": "stderr",
     "output_type": "stream",
     "text": [
      "HTTP Error 404: \n"
     ]
    },
    {
     "name": "stdout",
     "output_type": "stream",
     "text": [
      "Skipping MPLN due to missing longName\n",
      "Skipping MYMD due to missing longName\n"
     ]
    },
    {
     "name": "stderr",
     "output_type": "stream",
     "text": [
      "HTTP Error 404: \n"
     ]
    },
    {
     "name": "stdout",
     "output_type": "stream",
     "text": [
      "Skipping MYNA due to missing longName\n"
     ]
    },
    {
     "name": "stderr",
     "output_type": "stream",
     "text": [
      "HTTP Error 404: \n"
     ]
    },
    {
     "name": "stdout",
     "output_type": "stream",
     "text": [
      "Skipping NARI due to missing longName\n",
      "Skipping NATI due to missing longName\n",
      "Retrieved symbol NDAQ at number: 473\r"
     ]
    },
    {
     "name": "stderr",
     "output_type": "stream",
     "text": [
      "HTTP Error 404: \n"
     ]
    },
    {
     "name": "stdout",
     "output_type": "stream",
     "text": [
      "Skipping NEARUSD due to missing longName\n",
      "Skipping NEP due to missing longName\n",
      "Retrieved symbol NKE at number: 48079\r"
     ]
    },
    {
     "name": "stderr",
     "output_type": "stream",
     "text": [
      "HTTP Error 404: \n"
     ]
    },
    {
     "name": "stdout",
     "output_type": "stream",
     "text": [
      "Skipping NKLA due to missing longName\n",
      "Skipping NTCO due to missing longName\n",
      "Skipping NYCB due to missing longName\n",
      "Skipping NYMX due to missing longName\n",
      "Skipping ONTX due to missing longName\n",
      "Skipping PACW due to missing longName\n",
      "Skipping PBTS due to missing longName\n",
      "Retrieved symbol PERI at number: 535\r"
     ]
    },
    {
     "name": "stderr",
     "output_type": "stream",
     "text": [
      "HTTP Error 404: \n"
     ]
    },
    {
     "name": "stdout",
     "output_type": "stream",
     "text": [
      "Skipping PEV due to missing longName\n",
      "Skipping PIAI due to missing longName\n",
      "Skipping POL due to missing longName\n",
      "Skipping PXD due to missing longName2\n",
      "Skipping QLI due to missing longName\n",
      "Skipping RIDE due to missing longName\n",
      "Retrieved symbol SAIA at number: 5976\r"
     ]
    },
    {
     "name": "stderr",
     "output_type": "stream",
     "text": [
      "HTTP Error 404: \n"
     ]
    },
    {
     "name": "stdout",
     "output_type": "stream",
     "text": [
      "Skipping SANDUSD due to missing longName\n",
      "Retrieved symbol SBSI at number: 601\r"
     ]
    },
    {
     "name": "stderr",
     "output_type": "stream",
     "text": [
      "HTTP Error 404: \n"
     ]
    },
    {
     "name": "stdout",
     "output_type": "stream",
     "text": [
      "Skipping SBT due to missing longName\n",
      "Skipping SCPL due to missing longName\n",
      "Skipping SEEL due to missing longName\n",
      "Skipping SESN due to missing longName\n",
      "Retrieved symbol SFIX at number: 608\r"
     ]
    },
    {
     "name": "stderr",
     "output_type": "stream",
     "text": [
      "HTTP Error 404: \n"
     ]
    },
    {
     "name": "stdout",
     "output_type": "stream",
     "text": [
      "Skipping SFR due to missing longName\n",
      "Retrieved symbol SHEL at number: 609\r"
     ]
    },
    {
     "name": "stderr",
     "output_type": "stream",
     "text": [
      "HTTP Error 404: \n"
     ]
    },
    {
     "name": "stdout",
     "output_type": "stream",
     "text": [
      "Skipping SHIBUSD due to missing longName\n",
      "Skipping SIEN due to missing longName\n",
      "Retrieved symbol SOL at number: 6332\r"
     ]
    },
    {
     "name": "stderr",
     "output_type": "stream",
     "text": [
      "HTTP Error 404: \n"
     ]
    },
    {
     "name": "stdout",
     "output_type": "stream",
     "text": [
      "Skipping SOLUSD due to missing longName\n",
      "Skipping STER due to missing longName\n",
      "Skipping STOR due to missing longName\n",
      "Skipping TA due to missing longName32\n",
      "Skipping TALS due to missing longName\n",
      "Skipping TDCX due to missing longName\n",
      "Skipping TGH due to missing longName\n",
      "Skipping TRKA due to missing longName\n",
      "Skipping TRMR due to missing longName\n",
      "Skipping TRSSF due to missing longName\n",
      "Retrieved symbol TSN at number: 6765\r"
     ]
    },
    {
     "name": "stderr",
     "output_type": "stream",
     "text": [
      "HTTP Error 404: \n"
     ]
    },
    {
     "name": "stdout",
     "output_type": "stream",
     "text": [
      "Skipping TSX:ABX due to missing longName\n"
     ]
    },
    {
     "name": "stderr",
     "output_type": "stream",
     "text": [
      "HTTP Error 404: \n"
     ]
    },
    {
     "name": "stdout",
     "output_type": "stream",
     "text": [
      "Skipping TSX:AEM due to missing longName\n"
     ]
    },
    {
     "name": "stderr",
     "output_type": "stream",
     "text": [
      "HTTP Error 404: \n",
      "HTTP Error 404: \n"
     ]
    },
    {
     "name": "stdout",
     "output_type": "stream",
     "text": [
      "Skipping TSX:AH due to missing longName\n",
      "Skipping TSX:CFF due to missing longName\n"
     ]
    },
    {
     "name": "stderr",
     "output_type": "stream",
     "text": [
      "HTTP Error 404: \n",
      "HTTP Error 404: \n"
     ]
    },
    {
     "name": "stdout",
     "output_type": "stream",
     "text": [
      "Skipping TSX:DFY due to missing longName\n",
      "Skipping TSX:DOO due to missing longName\n"
     ]
    },
    {
     "name": "stderr",
     "output_type": "stream",
     "text": [
      "HTTP Error 404: \n"
     ]
    },
    {
     "name": "stdout",
     "output_type": "stream",
     "text": [
      "Skipping TSX:FFH due to missing longName\n"
     ]
    },
    {
     "name": "stderr",
     "output_type": "stream",
     "text": [
      "HTTP Error 404: \n",
      "HTTP Error 404: \n"
     ]
    },
    {
     "name": "stdout",
     "output_type": "stream",
     "text": [
      "Skipping TSX:FNV due to missing longName\n",
      "Skipping TSX:NTR due to missing longName\n"
     ]
    },
    {
     "name": "stderr",
     "output_type": "stream",
     "text": [
      "HTTP Error 404: \n"
     ]
    },
    {
     "name": "stdout",
     "output_type": "stream",
     "text": [
      "Skipping TSX:REAL due to missing longName\n"
     ]
    },
    {
     "name": "stderr",
     "output_type": "stream",
     "text": [
      "HTTP Error 404: \n"
     ]
    },
    {
     "name": "stdout",
     "output_type": "stream",
     "text": [
      "Skipping TSX:STLC due to missing longName\n",
      "Skipping TWND due to missing longName\n",
      "Skipping TWOU due to missing longName\n",
      "Retrieved symbol TWST at number: 681\r"
     ]
    },
    {
     "name": "stderr",
     "output_type": "stream",
     "text": [
      "HTTP Error 404: \n"
     ]
    },
    {
     "name": "stdout",
     "output_type": "stream",
     "text": [
      "Skipping TWTUSD due to missing longName\n",
      "Skipping TWX due to missing longName\n",
      "Skipping VLTA due to missing longName\n",
      "Skipping VSAC due to missing longName\n",
      "Skipping VSACU due to missing longName\n",
      "Skipping VSTO due to missing longName\n",
      "Skipping WEJO due to missing longName\n",
      "Skipping WISA due to missing longName\n",
      "Skipping WWE due to missing longName\n",
      "Skipping XSHLF due to missing longName\n",
      "Retrieved symbol YMAB at number: 743\r"
     ]
    },
    {
     "name": "stderr",
     "output_type": "stream",
     "text": [
      "HTTP Error 404: \n"
     ]
    },
    {
     "name": "stdout",
     "output_type": "stream",
     "text": [
      "Skipping YY due to missing longName\n",
      "Skipping Z due to missing longName\n",
      "Skipping ZEV due to missing longName\n",
      "Retrieved symbol ZS at number: 74846\r"
     ]
    }
   ],
   "source": [
    "if Reload:\n",
    "    data = []\n",
    "    symbol_number = 0\n",
    "    for symbol in tickers:\n",
    "        try:\n",
    "            ticker = yf.Ticker(symbol)\n",
    "            info = ticker.info\n",
    "            if info.get(\"longName\") is None:\n",
    "                print(f\"Skipping {symbol} due to missing longName\")\n",
    "                continue\n",
    "            else:\n",
    "                data.append({\n",
    "                    \"symbol\": symbol,\n",
    "                    \"name\": info.get(\"longName\"),\n",
    "                    \"exchange\": info.get(\"exchange\"),\n",
    "                    \"sector\": info.get(\"sector\"),\n",
    "                    \"industry\": info.get(\"industry\"),\n",
    "                    \"description\": info.get(\"longBusinessSummary\")\n",
    "                })\n",
    "                symbol_number += 1\n",
    "                print(f\"Retrieved symbol {symbol} at number: {symbol_number}\",end='\\r', flush=True)\n",
    "            time.sleep(0.2)  # small delay to avoid rate limits\n",
    "        except Exception as e:\n",
    "            print(f\"Error for {symbol}: {e}\")"
   ]
  },
  {
   "cell_type": "code",
   "execution_count": 8,
   "id": "363c2bef",
   "metadata": {},
   "outputs": [
    {
     "name": "stdout",
     "output_type": "stream",
     "text": [
      "Found 748 tickers from yahoo.\n",
      "[{'symbol': 'AA', 'name': 'Alcoa Corporation', 'exchange': 'NYQ', 'sector': 'Basic Materials', 'industry': 'Aluminum', 'description': 'Alcoa Corporation, together with its subsidiaries, engages in the bauxite mining, alumina refining, aluminum production, and energy generation business in Australia, Brazil, Canada, Iceland, Norway, Spain, the United States, and internationally. The company operates through two segments, Alumina and Aluminum. It operates bauxite and other aluminous ores mining; and processes bauxite into alumina for sale to aluminum smelter customers and customers who process it into industrial chemical products through supply contracts to third parties, as well as aluminum smelting and casting businesses. The company offers primary aluminum in the form of alloy ingot or value-add ingot to customers that produce products for transportation, building and construction, packaging, wire, other industrial markets, and traders. In addition, it provides energy that generates and sells electricity in the wholesale market to traders, large industrial consumers, distribution companies, and other generation companies. The company was formerly known as Alcoa Upstream Corporation and changed its name to Alcoa Corporation in October 2016. The company was founded in 1886 and is headquartered in Pittsburgh, Pennsylvania.'}, {'symbol': 'AAL', 'name': 'American Airlines Group Inc.', 'exchange': 'NMS', 'sector': 'Industrials', 'industry': 'Airlines', 'description': 'American Airlines Group Inc., through its subsidiaries, operates as a network air carrier in the United States, Latin America, Atlantic, and Pacific. The company provides scheduled air transportation services for passengers and cargo through its hubs in Charlotte, Chicago, Dallas/Fort Worth, Los Angeles, Miami, New York, Philadelphia, Phoenix, and Washington, D.C., as well as through partner gateways in London, Doha, Madrid, Seattle/Tacoma, Sydney, and Tokyo. It also operates a mainline fleet of 977 aircraft. The company was formerly known as AMR Corporation and changed its name to American Airlines Group Inc. in December 2013. American Airlines Group Inc. was founded in 1926 and is headquartered in Fort Worth, Texas.'}, {'symbol': 'AAPL', 'name': 'Apple Inc.', 'exchange': 'NMS', 'sector': 'Technology', 'industry': 'Consumer Electronics', 'description': 'Apple Inc. designs, manufactures, and markets smartphones, personal computers, tablets, wearables, and accessories worldwide. The company offers iPhone, a line of smartphones; Mac, a line of personal computers; iPad, a line of multi-purpose tablets; and wearables, home, and accessories comprising AirPods, Apple TV, Apple Watch, Beats products, and HomePod. It also provides AppleCare support and cloud services; and operates various platforms, including the App Store that allow customers to discover and download applications and digital content, such as books, music, video, games, and podcasts, as well as advertising services include third-party licensing arrangements and its own advertising platforms. In addition, the company offers various subscription-based services, such as Apple Arcade, a game subscription service; Apple Fitness+, a personalized fitness service; Apple Music, which offers users a curated listening experience with on-demand radio stations; Apple News+, a subscription news and magazine service; Apple TV+, which offers exclusive original content; Apple Card, a co-branded credit card; and Apple Pay, a cashless payment service, as well as licenses its intellectual property. The company serves consumers, and small and mid-sized businesses; and the education, enterprise, and government markets. It distributes third-party applications for its products through the App Store. The company also sells its products through its retail and online stores, and direct sales force; and third-party cellular network carriers, wholesalers, retailers, and resellers. Apple Inc. was founded in 1976 and is headquartered in Cupertino, California.'}, {'symbol': 'ACB', 'name': 'Aurora Cannabis Inc.', 'exchange': 'NCM', 'sector': 'Healthcare', 'industry': 'Drug Manufacturers - Specialty & Generic', 'description': \"Aurora Cannabis Inc., together with its subsidiaries, engages in the production, distribution, and sale of cannabis and cannabis-derivative products in Canada and internationally. It operates through two segments, Canadian Cannabis and Plant Propagation. The company offers pharmaceutical-grade cannabis products; medical and consumer cannabis products; and engages in the propagation of vegetables and floral plants. It also provides dried and fresh cannabis, cannabis oils, trims, concentrates, ingestibles, capsules, vaporizers, edible cannabis, cannabis extracts, and cannabis topicals; and patient counseling and outreach services. Its brand portfolio includes San Rafael '71, Greybeard, Drift, Daily Special, Being, CanniMed, MedReleaf, Aurora, and WMMC, as well as international brands include Pedanios, Bidiol, IndiMed, and CraftPlant. The company was founded in 2013 and is headquartered in Edmonton, Canada.\"}, {'symbol': 'ACGL', 'name': 'Arch Capital Group Ltd.', 'exchange': 'NMS', 'sector': 'Financial Services', 'industry': 'Insurance - Diversified', 'description': \"Arch Capital Group Ltd., together with its subsidiaries, provides insurance, reinsurance, and mortgage insurance products in the United States, Canada, Bermuda, the United Kingdom, Europe, and Australia. The Insurance segment offers commercial automobile; commercial multiperil; financial and professional line liability; admitted, excess, and surplus casualty lines; property and short-tail specialty; workers compensation; casualty; marine and aviation; excess and surplus casualty; construction and national accounts; alternative market risks and employer's liability; travel, accident, and health; contract and commercial surety coverage; and other insurance products, as well as Lloyd's syndicates; programs; and warranty and lenders solutions. Its Reinsurance segment provides reinsurance products for casualty; marine and aviation; property catastrophe; property excluding property catastrophe; and other specialty products. The Mortgage segment offers U.S. primary mortgage insurance business written predominantly on loans sold to the Federal National Mortgage Association and Federal Home Loan Mortgage Corporation; reinsurance and underwriting services related to the U.S. credit-risk transfer business and other U.S. mortgage reinsurance transactions; and international mortgage insurance and reinsurance business covering loans. It markets its products through a group of licensed independent retail and wholesale brokers. The company was formerly known as Risk Capital Holdings, Inc. Arch Capital Group Ltd. was founded in 1995 and is headquartered in Pembroke, Bermuda.\"}]\n",
      "dict_keys(['symbol', 'name', 'exchange', 'sector', 'industry', 'description'])\n"
     ]
    }
   ],
   "source": [
    "print(f\"Found {len(data)} tickers from yahoo.\")\n",
    "print(data[:5])  # Print first 5 entries for verification\n",
    "print(data[0].keys())  # Print keys of the first entry to check structure"
   ]
  },
  {
   "cell_type": "code",
   "execution_count": 9,
   "id": "82da801f",
   "metadata": {},
   "outputs": [],
   "source": [
    "def save_cached_ticker(cache):\n",
    "    with open(c.RAW_TICKER_FILE, 'w') as f:\n",
    "        json.dump(cache, f, indent=4, default=str)\n"
   ]
  },
  {
   "cell_type": "code",
   "execution_count": 10,
   "id": "de9f3c97",
   "metadata": {},
   "outputs": [],
   "source": [
    "# Save results\n",
    "save_cached_ticker(data)\n"
   ]
  },
  {
   "cell_type": "code",
   "execution_count": null,
   "id": "21ca5952",
   "metadata": {},
   "outputs": [],
   "source": []
  }
 ],
 "metadata": {
  "kernelspec": {
   "display_name": "stocks",
   "language": "python",
   "name": "python3"
  },
  "language_info": {
   "codemirror_mode": {
    "name": "ipython",
    "version": 3
   },
   "file_extension": ".py",
   "mimetype": "text/x-python",
   "name": "python",
   "nbconvert_exporter": "python",
   "pygments_lexer": "ipython3",
   "version": "3.12.11"
  }
 },
 "nbformat": 4,
 "nbformat_minor": 5
}
