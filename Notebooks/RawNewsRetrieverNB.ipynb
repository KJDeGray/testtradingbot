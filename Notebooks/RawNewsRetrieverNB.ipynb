{
 "cells": [
  {
   "cell_type": "code",
   "execution_count": null,
   "id": "8cf2cc6a",
   "metadata": {},
   "outputs": [
    {
     "ename": "NameError",
     "evalue": "name '__file__' is not defined",
     "output_type": "error",
     "traceback": [
      "\u001b[31m---------------------------------------------------------------------------\u001b[39m",
      "\u001b[31mNameError\u001b[39m                                 Traceback (most recent call last)",
      "\u001b[36mCell\u001b[39m\u001b[36m \u001b[39m\u001b[32mIn[4]\u001b[39m\u001b[32m, line 10\u001b[39m\n\u001b[32m      8\u001b[39m \u001b[38;5;28;01mfrom\u001b[39;00m\u001b[38;5;250m \u001b[39m\u001b[34;01mdatetime\u001b[39;00m\u001b[38;5;250m \u001b[39m\u001b[38;5;28;01mimport\u001b[39;00m date, timedelta, datetime\n\u001b[32m      9\u001b[39m \u001b[38;5;28;01mimport\u001b[39;00m\u001b[38;5;250m \u001b[39m\u001b[34;01msys\u001b[39;00m\n\u001b[32m---> \u001b[39m\u001b[32m10\u001b[39m sys.path.append(os.path.dirname(os.path.dirname(\u001b[34;43m__file__\u001b[39;49m)))\n\u001b[32m     11\u001b[39m \u001b[38;5;28;01mimport\u001b[39;00m\u001b[38;5;250m \u001b[39m\u001b[34;01mConfig\u001b[39;00m\u001b[38;5;250m \u001b[39m\u001b[38;5;28;01mas\u001b[39;00m\u001b[38;5;250m \u001b[39m\u001b[34;01mc\u001b[39;00m\n\u001b[32m     12\u001b[39m \u001b[38;5;28;01mimport\u001b[39;00m\u001b[38;5;250m \u001b[39m\u001b[34;01mDatabase\u001b[39;00m\u001b[38;5;250m \u001b[39m\u001b[38;5;28;01mas\u001b[39;00m\u001b[38;5;250m \u001b[39m\u001b[34;01mdb\u001b[39;00m\n",
      "\u001b[31mNameError\u001b[39m: name '__file__' is not defined"
     ]
    }
   ],
   "source": [
    "import importlib\n",
    "import requests\n",
    "import time\n",
    "import os\n",
    "\n",
    "\n",
    "import json\n",
    "from datetime import date, timedelta, datetime\n",
    "import sys\n",
    "sys.path.append(os.path.abspath(os.path.join(os.getcwd(), '..')))\n",
    "import Config as c\n",
    "import Database as db\n",
    "\n",
    "importlib.reload(db)\n",
    "importlib.reload(c)"
   ]
  },
  {
   "cell_type": "code",
   "execution_count": null,
   "id": "535fe947",
   "metadata": {},
   "outputs": [],
   "source": [
    "\"\"\"Test info\"\"\"\n",
    "Reload = True\n",
    "remove_minutes = True\n",
    "\n",
    "start = date(2023, 1, 1)\n",
    "end = date(2023, 1, 5)\n",
    "symbol = None"
   ]
  },
  {
   "cell_type": "code",
   "execution_count": null,
   "id": "8bd05a4f",
   "metadata": {},
   "outputs": [],
   "source": [
    "def get_news_from_alpaca(symbol=None, query_start=date.today(), query_end=date.today()+timedelta(days=1), headers=None):\n",
    "    base_url = \"https://data.alpaca.markets/v1beta1/news\"\n",
    "    \n",
    "    params = {\n",
    "        \"symbols\": symbol,\n",
    "        \"start\": query_start,\n",
    "        \"end\": query_end,\n",
    "        \"limit\": 50,\n",
    "        \"sort\": \"desc\"\n",
    "    }\n",
    "\n",
    "    page_token = None\n",
    "    all_news = []\n",
    "    page_number = 0\n",
    "    total_items = 0\n",
    "    while True:\n",
    "        if page_token:\n",
    "            params[\"page_token\"] = page_token\n",
    "        else:\n",
    "            params.pop(\"page_token\", None)\n",
    "        print(base_url, headers, params)\n",
    "        response = requests.get(base_url, headers=headers, params=params)\n",
    "\n",
    "        if response.status_code == 429:\n",
    "            print(\"Rate limited (429). Waiting 60 seconds...\")\n",
    "            time.sleep(60)\n",
    "            continue\n",
    "        elif response.status_code != 200:\n",
    "            raise Exception(f\"Alpaca API error: {response.status_code}, {response.text}\")\n",
    "        else:\n",
    "            page_number += 1\n",
    "            size = len(response.json().get(\"news\", []))\n",
    "            total_items += size\n",
    "            print(f\"Fetched news page {page_number} with {size} items totaling {total_items} items\",end='\\r', flush=True)\n",
    "            \n",
    "\n",
    "        data = response.json()\n",
    "        news_page = data.get(\"news\", [])\n",
    "        all_news.extend(news_page)\n",
    "\n",
    "        page_token = data.get(\"next_page_token\")\n",
    "        if not page_token:\n",
    "            break\n",
    "\n",
    "        time.sleep(0.1)\n",
    "\n",
    "    return all_news\n"
   ]
  },
  {
   "cell_type": "code",
   "execution_count": 15,
   "id": "c4cf9db8",
   "metadata": {},
   "outputs": [
    {
     "name": "stdout",
     "output_type": "stream",
     "text": [
      "Fetched news page 2587 with 47 items totaling 129347 items\r"
     ]
    }
   ],
   "source": [
    "\"\"\"Test\"\"\"\n",
    "if Reload:\n",
    "    response = get_news_from_alpaca(symbol = symbol,query_start= start,query_end=end, headers={\"APCA-API-KEY-ID\": c.API_KEY,\"APCA-API-SECRET-KEY\": c.API_SECRET})\n"
   ]
  },
  {
   "cell_type": "code",
   "execution_count": 16,
   "id": "4c218f48",
   "metadata": {},
   "outputs": [],
   "source": [
    "def strip_useless_news_data(news, remove_minutes=remove_minutes):\n",
    "\n",
    "    stripped_news = []\n",
    "    for article in news:\n",
    "        new_article = article.copy()\n",
    "        if \"id\" in new_article:\n",
    "            new_article.pop(\"id\")\n",
    "        if \"updated_at\" in new_article:\n",
    "        #    new_article[\"created_at\"] = new_article.pop(\"updated_at\")\n",
    "            new_article.pop(\"updated_at\")\n",
    "        if \"created_at\" in new_article:\n",
    "            new_article[\"date\"] = datetime.fromisoformat(new_article.pop(\"created_at\").replace(\"Z\", \"+00:00\"))\n",
    "            if remove_minutes:\n",
    "                new_article[\"date\"] = new_article[\"date\"].date()\n",
    "            \n",
    "        if \"images\" in new_article:\n",
    "            new_article.pop(\"images\")\n",
    "        if \"url\" in new_article: \n",
    "            new_article.pop(\"url\")\n",
    "        #if \"content\" in new_article: \n",
    "        #    new_article.pop(\"content\")\n",
    "        stripped_news.append(new_article)\n",
    "    return stripped_news"
   ]
  },
  {
   "cell_type": "code",
   "execution_count": 17,
   "id": "b61ff8e9",
   "metadata": {},
   "outputs": [
    {
     "name": "stdout",
     "output_type": "stream",
     "text": [
      "Cleaned news data:\n",
      "{'author': 'AJ Fabino', 'content': '', 'headline': \"Biden Criticizes Supreme Court's Affirmative Action Ruling\", 'source': 'benzinga', 'summary': ' ', 'symbols': [], 'date': datetime.date(2023, 6, 29)}\n",
      "<class 'dict'>\n",
      "dict_keys(['author', 'content', 'headline', 'source', 'summary', 'symbols', 'date'])\n"
     ]
    }
   ],
   "source": [
    "\n",
    "\"\"\"Test\"\"\"\n",
    "\n",
    "\n",
    "cleaner_news = strip_useless_news_data(response)\n",
    "print(\"Cleaned news data:\")\n",
    "#print(cleaner_news)\n",
    "index = 5\n",
    "print(cleaner_news[index])\n",
    "print(type(cleaner_news[index]))\n",
    "print(cleaner_news[index].keys())\n"
   ]
  },
  {
   "cell_type": "code",
   "execution_count": 18,
   "id": "8c44d6b0",
   "metadata": {},
   "outputs": [],
   "source": [
    "def save_cached_news(cache):\n",
    "    for element in cache:\n",
    "        if isinstance(element, dict):\n",
    "            for key, value in element.items():\n",
    "                if isinstance(value, datetime):\n",
    "                    element[key] = value.isoformat()\n",
    "                elif isinstance(value, date):\n",
    "                    element[key] = value.isoformat()\n",
    "        else:\n",
    "            raise ValueError(\"Cache must be a list of dictionaries with datetime or date values.\")\n",
    "    with open(c.RAW_NEWS_FILE, 'w') as f:\n",
    "        json.dump(cache, f, indent=4, default=str)\n",
    "\n",
    "\n",
    "def load_cached_news():\n",
    "    if os.path.exists(c.RAW_NEWS_FILE):\n",
    "        with open(c.RAW_NEWS_FILE, 'r') as f:\n",
    "            raw = json.load(f)\n",
    "        for element in raw:\n",
    "            for key, value in element.items():\n",
    "                if isinstance(value, str):\n",
    "                    try:\n",
    "                        element[key] = datetime.fromisoformat(value)\n",
    "                    except ValueError:\n",
    "                        try:\n",
    "                            element[key] = date.fromisoformat(value)\n",
    "                        except ValueError:\n",
    "                            pass\n",
    "        return raw\n",
    "    else:     \n",
    "        print(f\"Cache file {c.RAW_NEWS_FILE} does not exist.\")\n",
    "    return {}\n",
    "\n",
    "\n"
   ]
  },
  {
   "cell_type": "code",
   "execution_count": 19,
   "id": "54e3c5b7",
   "metadata": {},
   "outputs": [],
   "source": [
    "save_cached_news(cleaner_news)\n"
   ]
  },
  {
   "cell_type": "code",
   "execution_count": 20,
   "id": "41f0b236",
   "metadata": {},
   "outputs": [
    {
     "name": "stdout",
     "output_type": "stream",
     "text": [
      "Loaded cached news data:\n",
      "Item 0: {'author': 'Franca Quarneti', 'content': '', 'headline': \"Square Enix's Final Fantasy XVI Surpasses 3 Million Copies Sold During Launch Week, But Only For PS 5\", 'source': 'benzinga', 'summary': 'Square Enix Holdings Co Ltd\\xa0(OTC: SQNXF), the renowned Japanese gaming company, announced impressive sales figures for its title,\\xa0Final ', 'symbols': ['SONY', 'SQNXF'], 'date': datetime.datetime(2023, 6, 29, 0, 0)}\n",
      "Item 1: {'author': 'Chris Katje', 'content': '', 'headline': 'Tesla Nearing Third Party App Support: Could A Tesla App Store Be Next?', 'source': 'benzinga', 'summary': 'Leading electric vehicle company Tesla Inc (NASDAQ: TSLA) announced several partnerships with leading automakers for sharing\\xa0its Supercharger network. This support might lead to third-party app support and an\\xa0app store coming.', 'symbols': ['F', 'GM', 'TSLA'], 'date': datetime.datetime(2023, 6, 29, 0, 0)}\n",
      "Item 2: {'author': 'Charles Gross', 'content': '', 'headline': 'Nike Executive Said Expect FY 2024 Gross Margins To Expand 140 To 160 Basis Points On A Reported Basis -Conf Call', 'source': 'benzinga', 'summary': '', 'symbols': ['NKE'], 'date': datetime.datetime(2023, 6, 29, 0, 0)}\n",
      "Item 3: {'author': 'Charles Gross', 'content': '', 'headline': 'Nike Executive Said Expect Q1 Revenue Growth To Be Flat To Up Low Single Digits - Conf Call', 'source': 'benzinga', 'summary': '', 'symbols': ['NKE'], 'date': datetime.datetime(2023, 6, 29, 0, 0)}\n",
      "Item 4: {'author': 'Charles Gross', 'content': '', 'headline': 'Nike Executive Said Expect FY 2024 Reported Revenue To Grow Mid Single Digits - Conf Call', 'source': 'benzinga', 'summary': '', 'symbols': ['NKE'], 'date': datetime.datetime(2023, 6, 29, 0, 0)}\n",
      "Item 5: {'author': 'AJ Fabino', 'content': '', 'headline': \"Biden Criticizes Supreme Court's Affirmative Action Ruling\", 'source': 'benzinga', 'summary': ' ', 'symbols': [], 'date': datetime.datetime(2023, 6, 29, 0, 0)}\n",
      "Item 6: {'author': 'Benzinga Newsdesk', 'content': '', 'headline': 'First Hawaiian Upcoming Retirements Of Three Members Of Its Senior Leadership Team', 'source': 'benzinga', 'summary': '', 'symbols': ['FHB'], 'date': datetime.datetime(2023, 6, 29, 0, 0)}\n",
      "Item 7: {'author': 'Benzinga Newsdesk', 'content': '', 'headline': 'Friedman Industries Expects Q1 To Be One Of The More Profitable Quarters In Company History', 'source': 'benzinga', 'summary': '', 'symbols': ['FRD'], 'date': datetime.datetime(2023, 6, 29, 0, 0)}\n",
      "Item 8: {'author': 'Benzinga Newsdesk', 'content': '', 'headline': 'Friedman Industries Q4 EPS $0.86 Up From $(1.11) YoY, Sales $124.19M Up From $75.09M YoY', 'source': 'benzinga', 'summary': '', 'symbols': ['FRD'], 'date': datetime.datetime(2023, 6, 29, 0, 0)}\n",
      "Item 9: {'author': 'Benzinga Insights', 'content': '', 'headline': 'Bearish Sentiment Across The Cannabis Space - Check Full Movers For June 29, 2023', 'source': 'benzinga', 'summary': ' ', 'symbols': ['CARA', 'CNVCF', 'CPHRF', 'FFNTF', 'OGI'], 'date': datetime.datetime(2023, 6, 29, 0, 0)}\n",
      "Item 10: {'author': 'Charles Gross', 'content': '', 'headline': 'Medavail Holdings Filed Prospectus Relating To Offer From Time To Time By Selling Stockholders Of Up To 99.6M Shares Of Common Stock', 'source': 'benzinga', 'summary': '', 'symbols': ['MDVL'], 'date': datetime.datetime(2023, 6, 29, 0, 0)}\n",
      "Item 11: {'author': 'Benzinga Newsdesk', 'content': '', 'headline': 'Equifax Merger Receives Approval From Boa Vista Serviços Shareholders; Acquisition Expected To Be Finalized In Early August 2023', 'source': 'benzinga', 'summary': '', 'symbols': ['EFX'], 'date': datetime.datetime(2023, 6, 29, 0, 0)}\n",
      "Item 12: {'author': 'Chris Katje', 'content': '', 'headline': 'Russians Opinion Of Vladimir Putin, Country Remain Unchanged After Wagner Group Coup', 'source': 'benzinga', 'summary': 'With an ongoing war between Russia and Ukraine in the backdrop, a potential coup attempt and talks of a civil war remain the headline event for Russia.', 'symbols': [], 'date': datetime.datetime(2023, 6, 29, 0, 0)}\n",
      "Item 13: {'author': 'Charles Gross', 'content': '', 'headline': 'Bionano Announced Stratys System for OGM and VIA Software for Hematologic Malignancies', 'source': 'benzinga', 'summary': '', 'symbols': ['BNGO'], 'date': datetime.datetime(2023, 6, 29, 0, 0)}\n",
      "Item 14: {'author': 'Charles Gross', 'content': '', 'headline': 'Healthcare Triangle Said On June 23 Got Notice Of Default From Seacoast Business Funding With Respect To Deal Between Co, Seacoast Dated May 2 2022; As Of June 29, No Action Has Been Taken By Seacoast; Healthcare Triangle Is Attempting To Resolve Matter', 'source': 'benzinga', 'summary': '', 'symbols': ['HCTI'], 'date': datetime.datetime(2023, 6, 29, 0, 0)}\n",
      "Item 15: {'author': 'Charles Gross', 'content': '', 'headline': 'Trevi Therapeutics Filed For Mixed Shelf Of Up To $200M', 'source': 'benzinga', 'summary': '', 'symbols': ['TRVI'], 'date': datetime.datetime(2023, 6, 29, 0, 0)}\n",
      "Item 16: {'author': 'Charles Gross', 'content': '', 'headline': 'Ontrak Filed For Offering Of Shares Of Common Stock, Together With Warrants; Size Not Disclosed', 'source': 'benzinga', 'summary': '', 'symbols': ['OTRK'], 'date': datetime.datetime(2023, 6, 29, 0, 0)}\n",
      "Item 17: {'author': 'Benzinga Newsdesk', 'content': '', 'headline': 'Unicycive Therapeutics Provides Regulatory Update On Lanthanum Dioxycarbonate Program; Says FDA Has Asked The Company To Provide Additional Information', 'source': 'benzinga', 'summary': '', 'symbols': ['UNCY'], 'date': datetime.datetime(2023, 6, 29, 0, 0)}\n",
      "Item 18: {'author': 'Charles Gross', 'content': '', 'headline': 'Meta Is Planning To Let People In The EU Download Apps Through Facebook', 'source': 'benzinga', 'summary': '', 'symbols': ['META'], 'date': datetime.datetime(2023, 6, 29, 0, 0)}\n",
      "Item 19: {'author': 'Benzinga Newsdesk', 'content': '', 'headline': 'Cybin Appoints Aaron Bartlone As COO., Effective July 1, 2023', 'source': 'benzinga', 'summary': '', 'symbols': ['CYBN'], 'date': datetime.datetime(2023, 6, 29, 0, 0)}\n",
      "Item 20: {'author': 'Charles Gross', 'content': '', 'headline': 'Abbvie Said Effective June 29, Robert A. Michael Has Been Named President And Chief Operating Officer', 'source': 'benzinga', 'summary': '', 'symbols': ['ABBV'], 'date': datetime.datetime(2023, 6, 29, 0, 0)}\n",
      "dict_keys(['author', 'content', 'headline', 'source', 'summary', 'symbols', 'date'])\n"
     ]
    }
   ],
   "source": [
    "load = db.load_cached_news()\n",
    "print(\"Loaded cached news data:\")\n",
    "for i, item in enumerate(load):\n",
    "    print(f\"Item {i}: {item}\")\n",
    "    if i >= 20: \n",
    "        break\n",
    "print(load[0].keys())\n"
   ]
  },
  {
   "cell_type": "code",
   "execution_count": null,
   "id": "46019754",
   "metadata": {},
   "outputs": [],
   "source": []
  }
 ],
 "metadata": {
  "kernelspec": {
   "display_name": "stocks",
   "language": "python",
   "name": "python3"
  },
  "language_info": {
   "codemirror_mode": {
    "name": "ipython",
    "version": 3
   },
   "file_extension": ".py",
   "mimetype": "text/x-python",
   "name": "python",
   "nbconvert_exporter": "python",
   "pygments_lexer": "ipython3",
   "version": "3.12.11"
  }
 },
 "nbformat": 4,
 "nbformat_minor": 5
}
